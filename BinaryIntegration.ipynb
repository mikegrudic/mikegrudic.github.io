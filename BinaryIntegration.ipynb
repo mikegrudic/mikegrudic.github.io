{
 "cells": [
  {
   "cell_type": "code",
   "execution_count": 1,
   "metadata": {},
   "outputs": [
    {
     "name": "stdout",
     "output_type": "stream",
     "text": [
      "Using matplotlib backend: TkAgg\n",
      "Populating the interactive namespace from numpy and matplotlib\n"
     ]
    }
   ],
   "source": [
    "%pylab\n",
    "from numba import jit, njit"
   ]
  },
  {
   "cell_type": "code",
   "execution_count": 2,
   "metadata": {
    "collapsed": true
   },
   "outputs": [],
   "source": [
    "softening = 0.\n",
    "\n",
    "@njit(fastmath=True)\n",
    "def accel(dx):\n",
    "    r = 0\n",
    "    for k in range(3):\n",
    "        r += dx[k]*dx[k]\n",
    "    r = np.sqrt(r)\n",
    "\n",
    "    fac = gravfac(r)#1/(r*r*r)\n",
    "    #else: fac = 1/(r*r*r)\n",
    "\n",
    "    return -dx * fac\n",
    "\n",
    "@njit(fastmath=True)\n",
    "def gravfac(r):\n",
    "    if r < softening:\n",
    "        u = r/softening\n",
    "        if u<0.5:\n",
    "            fac = (10.666666666667 + u * u * (32.0 * u - 38.4)) / softening**3\n",
    "        else:\n",
    "            fac = (21.333333333333 - 48.0 * u + 38.4 * u * u - 10.666666666667 * u * u * u - 0.066666666667 / (u * u * u))/softening**3\n",
    "    else:\n",
    "        fac = 1/(r*r*r)\n",
    "    return fac\n",
    "\n",
    "@njit(fastmath=True)\n",
    "def gravfac2(r):\n",
    "    if r < softening:\n",
    "        u = r/softening\n",
    "        if u<0.5:\n",
    "            fac = (76.8 - 96.0 * u) / softening**5\n",
    "        else:\n",
    "            fac = (-0.2 / (u * u * u * u * u) + 48.0 / u - 76.8 + 32.0 * u) / softening**5\n",
    "    else:\n",
    "        fac = 3/r**5\n",
    "    return fac\n",
    "\n",
    "@vectorize\n",
    "def potential(r):\n",
    "    if r < softening:\n",
    "        u = r / softening\n",
    "        if(u < 0.5):\n",
    "            wk = -2.8 + u * u * (5.333333333333 + u * u * (6.4 * u - 9.6));\n",
    "        else:\n",
    "            wk = -3.2 + 0.066666666667 / u + u * u * (10.666666666667 +\n",
    "                                                      u * (-16.0 + u * (9.6 - 2.133333333333 * u)));\n",
    "        return wk/softening\n",
    "    else:\n",
    "        return -1/r\n",
    "\n",
    "\n",
    "\n",
    "@njit(fastmath=True)\n",
    "def jerk(dx, dv):\n",
    "    r = 0\n",
    "    for k in range(3):\n",
    "        r += dx[k]*dx[k]\n",
    "    r = np.sqrt(r)\n",
    "    \n",
    "    if softening > 0:\n",
    "        fac = gravfac(r)\n",
    "        fac2 = gravfac2(r) #fac / (r*r)\n",
    "    else:\n",
    "        fac = 1/(r*r*r)\n",
    "        fac2 = 3*fac / (r*r)\n",
    "    \n",
    "    dv_dot_dx = dx[0]*dv[0] + dx[1]*dv[1] + dx[2]*dv[2]\n",
    "    return -dv * fac + dv_dot_dx * dx * fac2\n",
    "    \n",
    "\n",
    "\n",
    "    \n",
    "def Energy(pos, vel):\n",
    "    return 0.5*np.sum(vel**2,axis=1) + potential(np.sqrt(np.sum(pos**2,axis=1)))\n",
    "    #return acc"
   ]
  },
  {
   "cell_type": "code",
   "execution_count": 391,
   "metadata": {},
   "outputs": [
    {
     "data": {
      "text/plain": [
       "[<matplotlib.lines.Line2D at 0x7fda7179e7b8>]"
      ]
     },
     "execution_count": 391,
     "metadata": {},
     "output_type": "execute_result"
    }
   ],
   "source": [
    "plt.plot(np.linspace(0,1,1000), [gravfac(i) for i in np.linspace(0,1,1000)])"
   ]
  },
  {
   "cell_type": "code",
   "execution_count": 73,
   "metadata": {
    "collapsed": true
   },
   "outputs": [],
   "source": [
    "#Leapfrog scheme\n",
    "\n",
    "def LeapfrogStep(pos, vel, dt):\n",
    "    vel[:] += accel(pos) * dt/2\n",
    "    pos[:] += vel * dt\n",
    "    vel[:] += accel(pos) * dt/2\n",
    "    return\n",
    "\n",
    "def LeapfrogJerkStep(pos, vel, acc, dt, coeffs):\n",
    "    j0 = jerk(pos, vel-accel(pos)*dt/2)\n",
    "    acc[:] += j0 * dt/2\n",
    "    vel[:] += acc * dt/2 #+ j0 * dt*dt/8\n",
    "    #j0 = jerk(pos, vel)\n",
    "    #j0 = jerk(pos, vel)\n",
    "    #vel[:] += accel(pos) * dt/2# + j0 * dt*dt/24\n",
    "    #j0 = jerk(pos, vel)\n",
    "    #vel[:] += j0*dt*dt/24\n",
    "    pos[:] += vel * dt #+ jerk(pos,vel) * dt**3 / 6\n",
    "    j0 = jerk(pos, vel)\n",
    "    #j1 = jerk(pos, vel)\n",
    "    #vel[:] += j1*dt*dt/24\n",
    "    #j0 = jerk(pos, vel)\n",
    "    #a = accel(pos) + j0 * dt/2\n",
    "    #j0 = jerk(pos, vel)\n",
    "    #a = accel(pos) + j0 * dt/2\n",
    "    vel[:] += accel(pos) * dt/2# + j0 * dt*dt/8\n",
    "    acc[:] += j0 * dt/2\n",
    "    return\n",
    "\n",
    "\n",
    "@jit\n",
    "def RK4(pos, vel, dt):\n",
    "    v0 = np.copy(vel)\n",
    "    x0 = np.copy(pos)\n",
    "    \n",
    "    dx1 = dt * v0\n",
    "    dv1 = dt * accel(x0)\n",
    "    dx2 = dt * (v0 + dv1/2)\n",
    "    dv2 = dt * accel(x0 + dx1/2)\n",
    "    dx3 = dt * (v0 + dv2/2)\n",
    "    dv3 = dt * accel(x0 + dx2/2)\n",
    "    dx4 = dt * (v0 + dv3)\n",
    "    dv4 = dt * accel(x0 + dx3)\n",
    "    \n",
    "    pos[:] = x0 + dx1/6 + dx2/3 + dx3/3 + dx4/6\n",
    "    vel[:] = v0 + dv1/6 + dv2/3 + dv3/3 + dv4/6\n",
    "    \n",
    "@jit \n",
    "def Hermite(pos, vel, dt):\n",
    "    v0 = np.copy(vel)\n",
    "    x0 = np.copy(pos)\n",
    "    a0 = accel(x0)\n",
    "    j0 = jerk(x0, v0)\n",
    "    \n",
    "    dt2 = dt*dt\n",
    "    dt3 = dt*dt2\n",
    "    dt4 = dt*dt3\n",
    "    # prediction - do this in first half-step kick in GIZMO\n",
    "    dx1 = v0 * dt + 0.5 * a0 * dt2 + j0 * dt3/6\n",
    "    dv1 = a0 * dt + 0.5 * j0 * dt2\n",
    "    \n",
    "    pos[:] += dx1\n",
    "    vel[:] += dv1\n",
    "    \n",
    "    a1 = accel(pos)\n",
    "    j1 = jerk(pos, vel)\n",
    "    \n",
    "    # correction - do this in second half-step kick\n",
    "    vel[:] = v0 + (a0+a1)*dt/2 + (j0-j1)*dt2/12 #dx1 + dt4/24 * s0 + (dt*dt4)/120 * c0\n",
    "    pos[:] = x0 + (vel + v0)*dt/2 + (a0 - a1)*dt2/12\n",
    "    \n",
    "    return \n",
    "\n",
    "    \n",
    "@jit \n",
    "def PoorMansHermite(pos, vel, dt):\n",
    "    v0 = np.copy(vel)\n",
    "    x0 = np.copy(pos)\n",
    "    a0 = accel(x0)\n",
    "    #j0 = jerk(x0, v0)\n",
    "    \n",
    "    dt2 = dt*dt\n",
    "    dt3 = dt*dt2\n",
    "    dt4 = dt*dt3\n",
    "    # prediction - do this in first half-step kick in GIZMO\n",
    "    dx1 = v0 * dt + 0.5 * a0 * dt2 #+ j0 * dt3/6\n",
    "    dv1 = a0 * dt #+ 0.5 * j0 * dt2\n",
    "    \n",
    "    pos[:] += dx1\n",
    "    vel[:] += dv1\n",
    "    \n",
    "    a1 = accel(pos)\n",
    "    #j1 = jerk(pos, vel)\n",
    "    \n",
    "    # correction - do this in second half-step kick\n",
    "    vel[:] = v0 + (a0+a1)*dt/2 #+ (j0-j1)*dt2/12 #dx1 + dt4/24 * s0 + (dt*dt4)/120 * c0\n",
    "    pos[:] = x0 + (vel + v0)*dt/2 #+ (a0 - a1)*dt2/12\n",
    "    \n",
    "    return "
   ]
  },
  {
   "cell_type": "code",
   "execution_count": 387,
   "metadata": {
    "collapsed": true
   },
   "outputs": [],
   "source": [
    "Hermite(np.array([1.,0.,0.]), np.array([0.,1.,0.]),1e-4)"
   ]
  },
  {
   "cell_type": "code",
   "execution_count": 48,
   "metadata": {},
   "outputs": [
    {
     "name": "stdout",
     "output_type": "stream",
     "text": [
      "2400.0\n",
      "12.703 18137656.911776725 5.99946705820399\n"
     ]
    }
   ],
   "source": [
    "softening = 0.\n",
    "e = 0.9\n",
    "vel = (1-e)**0.5 * np.array([0,1.,0])\n",
    "pos = np.array([1.,0.,0.])\n",
    "period = 2*np.pi * (1-e/2)**1.5\n",
    "x = [np.copy(pos),]\n",
    "v = [np.copy(vel),]\n",
    "a = []\n",
    "t = 0.\n",
    "times = [t,]\n",
    "#dt = 0.00125/2\n",
    "N_orbits = 1000\n",
    "tmax = N_orbits*2.4\n",
    "while t < tmax:\n",
    "    #omega = np.sqrt(np.sum(np.cross(vel, pos)**2))/np.sum(pos**2)\n",
    "    #omega = np.sum(vel**2)**0.5 /  np.sum(pos**2)**0.5\n",
    "    omega = np.sum(vel**2)**0.5 /  np.sum(pos**2)**0.5 + np.sqrt(softening + np.sum(pos**2))**-1.5\n",
    "    #omega = np.sqrt(softening + np.sum(pos**2))**-1.5\n",
    "    #omega = np.sqrt(np.sum(vel**2) /  np.sum(pos**2) + np.sqrt(np.sum(pos**2))**-3)\n",
    "    #print(omega)\n",
    "    dt = min(0.1/ omega, tmax-t)\n",
    "    #dt = (0.1 * accel(pos)*)\n",
    "    #print(pos,vel)\n",
    "    #LeapfrogStep(pos, vel, dt)\n",
    "    #RK4(pos, vel, dt)\n",
    "    LeapfrogJerkStep(pos, vel, dt)\n",
    "    x.append(np.copy(pos))\n",
    "    v.append(np.copy(vel))\n",
    "    t += dt\n",
    "    times.append(t)\n",
    "print(tmax)\n",
    "x = np.array(x)\n",
    "v = np.array(v)\n",
    "#print(x[0],v[0])\n",
    "E = Energy(x,v)\n",
    "relative_error = np.abs(E-E[0])/np.abs(E[0])\n",
    "print(len(E)/N_orbits, relative_error.max()/N_orbits * 10**5, relative_error.max()*(len(E)/N_orbits/100)**5)#*(len(E)/1e5)**5, relative_error.max()*1000)\n",
    "#print(relative_error[-1])\n",
    "plt.plot(times, relative_error)\n",
    "#plt.yscale('log')\n",
    "#plt.xscale('log')\n",
    "plt.show()\n",
    "#print(relative_error.max())\n",
    "#plt.plot(x[:,0], x[:,1])\n",
    "#plt.axes().set_aspect('equal')\n",
    "#plt.show()"
   ]
  },
  {
   "cell_type": "code",
   "execution_count": 74,
   "metadata": {},
   "outputs": [
    {
     "name": "stdout",
     "output_type": "stream",
     "text": [
      "0.01\n",
      "0.005\n",
      "0.0025\n",
      "0.00125\n",
      "0.000625\n",
      "Method order:  -2.0610523489382833\n"
     ]
    }
   ],
   "source": [
    "def EnergyError(fac):\n",
    "    print(fac)\n",
    "    softening = 0.\n",
    "    e = 0.9\n",
    "    vel = (1-e)**0.5 * np.array([0,1.,0])\n",
    "    pos = np.array([1.,0.,0.])\n",
    "    acc = accel(pos)\n",
    "    j = jerk(pos, vel)\n",
    "    period = 2*np.pi * (1-e/2)**1.5\n",
    "    x = [np.copy(pos),]\n",
    "    v = [np.copy(vel),]\n",
    "    t = 0.\n",
    "    times = [t,]\n",
    "    #dt = 0.00125/2\n",
    "    N_orbits = 10\n",
    "    tmax = N_orbits*2.4\n",
    "    while t < tmax:\n",
    "        #omega = np.sqrt(np.sum(np.cross(vel, pos)**2))/np.sum(pos**2)\n",
    "        #omega = np.sum(vel**2)**0.5 /  np.sum(pos**2)**0.5\n",
    "        omega = np.sum(vel**2)**0.5 /  np.sum(pos**2)**0.5 + np.sqrt(softening + np.sum(pos**2))**-1.5\n",
    "        #omega = np.sqrt(softening + np.sum(pos**2))**-1.5\n",
    "        #omega = np.sqrt(np.sum(vel**2) /  np.sum(pos**2) + np.sqrt(np.sum(pos**2))**-3)\n",
    "        #print(omega)\n",
    "        dt = min(fac/ omega, tmax-t)\n",
    "        #dt = (0.1 * accel(pos)*)\n",
    "        #print(pos,vel)\n",
    "        #LeapfrogStep(pos, vel, dt)\n",
    "        #RK4(pos, vel, dt)\n",
    "        PoorMansHermite(pos, vel, dt)\n",
    "\n",
    "        x.append(np.copy(pos))\n",
    "        v.append(np.copy(vel))\n",
    "        t += dt\n",
    "        times.append(t)\n",
    "    #print(tmax)\n",
    "    x = np.array(x)\n",
    "    v = np.array(v)\n",
    "    #print(x[0],v[0])\n",
    "    E = Energy(x,v)\n",
    "    relative_error = np.abs(E-E[0])/np.abs(E[0])\n",
    "#    print(len(E)/N_orbits, relative_error.max()/N_orbits * 10**5, relative_error.max()*(len(E)/N_orbits/100)**5)#*(len(E)/1e5)**5, relative_error.max()*1000)\n",
    "    return times, E, relative_error\n",
    "#print(relative_error[-1])\n",
    "facs = 0.01*2.**(-np.arange(0,5))\n",
    "errors = [(EnergyError(f)[2]).max() for f in facs]\n",
    "plt.plot(facs, errors)\n",
    "#plt.plot(times, relative_error)\n",
    "plt.yscale('log')\n",
    "plt.xscale('log')\n",
    "plt.show()\n",
    "print(\"Method order: \", -np.log10(errors[-1]/errors[0])/np.log10(facs[-1]/facs[0]))"
   ]
  },
  {
   "cell_type": "code",
   "execution_count": 116,
   "metadata": {},
   "outputs": [
    {
     "name": "stdout",
     "output_type": "stream",
     "text": [
      "0.05263157761208886\n"
     ]
    }
   ],
   "source": [
    "print(np.sum(x**2,axis=1).min()**0.5)"
   ]
  },
  {
   "cell_type": "code",
   "execution_count": 17,
   "metadata": {},
   "outputs": [
    {
     "data": {
      "text/plain": [
       "2.034717068616203"
      ]
     },
     "execution_count": 17,
     "metadata": {},
     "output_type": "execute_result"
    }
   ],
   "source": [
    "np.log10(errors[-1]/errors[0])/np.log10(facs[-1]/facs[0])"
   ]
  },
  {
   "cell_type": "code",
   "execution_count": null,
   "metadata": {
    "collapsed": true
   },
   "outputs": [],
   "source": []
  }
 ],
 "metadata": {
  "kernelspec": {
   "display_name": "Python 3",
   "language": "python",
   "name": "python3"
  },
  "language_info": {
   "codemirror_mode": {
    "name": "ipython",
    "version": 3
   },
   "file_extension": ".py",
   "mimetype": "text/x-python",
   "name": "python",
   "nbconvert_exporter": "python",
   "pygments_lexer": "ipython3",
   "version": "3.6.2"
  }
 },
 "nbformat": 4,
 "nbformat_minor": 2
}
